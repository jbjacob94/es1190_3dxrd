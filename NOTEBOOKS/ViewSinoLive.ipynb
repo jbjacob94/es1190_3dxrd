{
 "cells": [
  {
   "cell_type": "code",
   "execution_count": null,
   "metadata": {},
   "outputs": [],
   "source": [
    "#sys.path.append('/home/esrf/jean1994b/.local/lib/python3.9/site-packages')"
   ]
  },
  {
   "cell_type": "code",
   "execution_count": null,
   "metadata": {
    "scrolled": true
   },
   "outputs": [],
   "source": [
    "import os, sys, h5py, pylab as pl, numpy as np, fast_histogram\n",
    "sys.path.append('/data/visitor/es1190/id11/20230421/SCRIPTS')\n",
    "from es1190_3dxrd_utils import rawimages\n",
    "os.environ['HDF5_USE_FILE_LOCKING'] = \"FALSE\"\n",
    "\n",
    "%matplotlib ipympl"
   ]
  },
  {
   "cell_type": "code",
   "execution_count": null,
   "metadata": {},
   "outputs": [],
   "source": [
    "experiment = '/data/visitor/es1190/id11/20230421'\n",
    "sample = \"WG102\"\n",
    "skips = 'align'\n",
    "dset = '2000um'\n",
    "\n",
    "folder = os.path.join(experiment,'RAW_DATA', sample)\n",
    "dsets = [ dset for dset in os.listdir(folder) if dset.find('h5')<0 and all([sk not in dset for sk in skips])]\n",
    "dsets"
   ]
  },
  {
   "cell_type": "code",
   "execution_count": null,
   "metadata": {},
   "outputs": [],
   "source": [
    "h5names = [os.path.join(experiment, 'RAW_DATA', sample, ds, ds + '.h5') for ds in dsets]\n",
    "h5name = os.path.join(experiment, 'RAW_DATA', sample, sample+'_'+dset, sample+'_'+dset + '.h5')\n",
    "h5names"
   ]
  },
  {
   "cell_type": "code",
   "execution_count": null,
   "metadata": {},
   "outputs": [],
   "source": [
    "\n",
    "rbins, ybins, sino, recons = [], [], [], []\n",
    "for h in h5names:\n",
    "    rb, yb, s, r = rawimages.plotsino_eiger(h)\n",
    "    rbins.append(rb)\n",
    "    ybins.append(yb)\n",
    "    sino.append(s)\n",
    "    recons.append(r)\n"
   ]
  },
  {
   "cell_type": "code",
   "execution_count": null,
   "metadata": {},
   "outputs": [],
   "source": [
    "savedir = os.path.join(experiment,'PROCESSED_DATA/ANALYSIS', sample, 'PICT')\n",
    "\n",
    "for yb, rb, h, r in zip(ybins, rbins, h5names, recons):\n",
    "    \n",
    "    pl.figure(figsize=(10,10))\n",
    "    p = pl.pcolormesh(yb, yb,r, vmax=3500, cmap='Greys_r' )\n",
    "    pl.colorbar(p)\n",
    "    pl.xlabel('x µm')\n",
    "    pl.ylabel('y µm')\n",
    "    \n",
    "    hname = h.split('/')[-1]\n",
    "    pl.title(hname)\n",
    "    \n",
    "    fname = os.path.join(savedir,hname.replace('.h5', '_recon_raw.png'))\n",
    "    pl.savefig(fname, format='png')"
   ]
  }
 ],
 "metadata": {
  "kernelspec": {
   "display_name": "Python 3 (ipykernel)",
   "language": "python",
   "name": "python3"
  },
  "language_info": {
   "codemirror_mode": {
    "name": "ipython",
    "version": 3
   },
   "file_extension": ".py",
   "mimetype": "text/x-python",
   "name": "python",
   "nbconvert_exporter": "python",
   "pygments_lexer": "ipython3",
   "version": "3.8.10"
  }
 },
 "nbformat": 4,
 "nbformat_minor": 4
}
